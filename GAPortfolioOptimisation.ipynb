{
 "cells": [
  {
   "cell_type": "code",
   "execution_count": null,
   "metadata": {},
   "outputs": [],
   "source": [
    "import random \n",
    "from deap import base, creator, tools, algorithms\n",
    "import pickle\n",
    "import numpy as np\n",
    "import matplotlib.pyplot as plt\n",
    "import pandas as pd\n",
    "\n",
    "from functools import reduce\n",
    "import importlib\n",
    "import datetime as dt\n",
    "from datetime import datetime\n",
    "from sklearn import preprocessing\n",
    "\n",
    "from pandas import concat\n",
    "from sklearn.preprocessing import LabelEncoder\n",
    "from sklearn.preprocessing import MinMaxScaler\n",
    "\n",
    "from sklearn import metrics\n",
    "from sklearn import preprocessing as prep\n",
    "from sklearn.metrics import mean_squared_error\n",
    "\n",
    "from math import sqrt"
   ]
  },
  {
   "cell_type": "code",
   "execution_count": 2,
   "metadata": {},
   "outputs": [],
   "source": [
    "date_format=\"%Y-%m-%d\"\n",
    "date_parse = lambda date: dt.datetime.strptime(date, date_format)\n",
    "DWJ = pd.read_csv(\"C:/Users/ciara/Downloads/DJI.csv\", index_col=\"Date\",\n",
    "                  parse_dates=True, date_parser=date_parse)\n",
    "\n",
    "\n",
    "\n",
    "date_format=\"%d/%m/%Y\"\n",
    "date_parse = lambda date: dt.datetime.strptime(date, date_format)\n",
    "HD= pd.read_csv(\"C:/Users/ciara/Downloads/HD.csv\", index_col=\"Date\",\n",
    "                  parse_dates=True, date_parser=date_parse)\n",
    "CAT= pd.read_csv(\"C:/Users/ciara/Downloads/CAT.csv\", index_col=\"Date\",\n",
    "                  parse_dates=True, date_parser=date_parse)\n",
    "CVX= pd.read_csv(\"C:/Users/ciara/Downloads/CVX.csv\", index_col=\"Date\",\n",
    "                  parse_dates=True, date_parser=date_parse)\n",
    "XOM= pd.read_csv(\"C:/Users/ciara/Downloads/XOM.csv\", index_col=\"Date\",\n",
    "                  parse_dates=True, date_parser=date_parse)\n",
    "JPM= pd.read_csv(\"C:/Users/ciara/Downloads/JPM.csv\", index_col=\"Date\",\n",
    "                  parse_dates=True, date_parser=date_parse)\n",
    "INTC= pd.read_csv(\"C:/Users/ciara/Downloads/INTC.csv\", index_col=\"Date\",\n",
    "                  parse_dates=True, date_parser=date_parse)\n",
    "MMM= pd.read_csv(\"C:/Users/ciara/Downloads/MMM.csv\", index_col=\"Date\",\n",
    "                  parse_dates=True, date_parser=date_parse)\n",
    "MCD= pd.read_csv(\"C:/Users/ciara/Downloads/MCD.csv\", index_col=\"Date\",\n",
    "                  parse_dates=True, date_parser=date_parse)\n",
    "V= pd.read_csv(\"C:/Users/ciara/Downloads/V.csv\", index_col=\"Date\",\n",
    "                  parse_dates=True, date_parser=date_parse)\n",
    "WMT= pd.read_csv(\"C:/Users/ciara/Downloads/WMT.csv\", index_col=\"Date\",\n",
    "                  parse_dates=True, date_parser=date_parse)\n",
    "PFE= pd.read_csv(\"C:/Users/ciara/Downloads/PFE.csv\", index_col=\"Date\",\n",
    "                  parse_dates=True, date_parser=date_parse)\n",
    "MSFT= pd.read_csv(\"C:/Users/ciara/Downloads/MSFT.csv\", index_col=\"Date\",\n",
    "                  parse_dates=True, date_parser=date_parse)\n",
    "KO= pd.read_csv(\"C:/Users/ciara/Downloads/KO.csv\", index_col=\"Date\",\n",
    "                  parse_dates=True, date_parser=date_parse)\n",
    "AAPL= pd.read_csv(\"C:/Users/ciara/Downloads/AAPL.csv\", index_col=\"Date\",\n",
    "                  parse_dates=True, date_parser=date_parse)\n",
    "BA= pd.read_csv(\"C:/Users/ciara/Downloads/BA.csv\", index_col=\"Date\",\n",
    "                  parse_dates=True, date_parser=date_parse)\n",
    "NKE= pd.read_csv(\"C:/Users/ciara/Downloads/NKE.csv\", index_col=\"Date\",\n",
    "                  parse_dates=True, date_parser=date_parse)\n"
   ]
  },
  {
   "cell_type": "code",
   "execution_count": 3,
   "metadata": {},
   "outputs": [],
   "source": [
    "NKE=NKE.rename(columns={\"Close\": \"NKE_price\"})\n",
    "NKE=NKE[\"NKE_price\"]\n",
    "HD=HD.rename(columns={\"Close\": \"HD_price\"})\n",
    "CAT=CAT.rename(columns={\"Close\": \"CAT_price\"})\n",
    "CVX=CVX.rename(columns={\"Close\": \"CVX_price\"})\n",
    "XOM=XOM.rename(columns={\"Close\": \"XOM_price\"})\n",
    "JPM=JPM.rename(columns={\"Close\": \"JPM_price\"})\n",
    "HD= HD[\"HD_price\"]\n",
    "CAT= CAT[\"CAT_price\"]\n",
    "CVX= CVX[\"CVX_price\"]\n",
    "XOM= XOM[\"XOM_price\"]\n",
    "JPM= JPM[\"JPM_price\"]\n",
    "portfolio_1=pd.merge(HD,CAT, left_index=True, right_index=True)\n",
    "portfolio_1=pd.merge(portfolio_1, CVX, left_index=True, right_index=True)\n",
    "portfolio_1=pd.merge(portfolio_1, XOM, left_index=True, right_index=True)\n",
    "portfolio_1=pd.merge(portfolio_1, JPM, left_index=True, right_index=True)\n",
    "portfolio_1\n",
    "\n",
    "\n",
    "INTC=INTC.rename(columns={\"Close\": \"INTC_price\"})\n",
    "INTC=INTC[\"INTC_price\"]\n",
    "MMM= MMM.rename(columns={\"Close\": \"MMM_price\"})\n",
    "MMM= MMM[\"MMM_price\"]\n",
    "MCD= MCD.rename(columns={\"Close\": \"MCD_price\"})\n",
    "MCD= MCD[\"MCD_price\"]\n",
    "V= V.rename(columns={\"Close\": \"V_price\"})\n",
    "V= V[\"V_price\"]\n",
    "WMT= WMT.rename(columns={\"Close\": \"WMT_price\"})\n",
    "WMT= WMT[\"WMT_price\"]\n",
    "\n",
    "portfolio_2=pd.merge(INTC,MMM, left_index=True, right_index=True)\n",
    "portfolio_2=pd.merge(portfolio_2, MCD, left_index=True, right_index=True)\n",
    "portfolio_2=pd.merge(portfolio_2, V, left_index=True, right_index=True)\n",
    "portfolio_2=pd.merge(portfolio_2, WMT, left_index=True, right_index=True)\n",
    "\n",
    "\n",
    "PFE= PFE.rename(columns={\"Close\": \"PFE_price\"})\n",
    "PFE= PFE[\"PFE_price\"]\n",
    "MSFT= MSFT.rename(columns={\"Close\": \"MSFT_price\"})\n",
    "MSFT= MSFT[\"MSFT_price\"]\n",
    "KO = KO.rename(columns={\"Close\": \"KO_price\"})\n",
    "KO= KO[\"KO_price\"]\n",
    "AAPL= AAPL.rename(columns={\"Close\": \"AAPL_price\"})\n",
    "AAPL= AAPL[\"AAPL_price\"]\n",
    "BA= BA.rename(columns={\"Close\": \"BA_price\"})\n",
    "BA= BA[\"BA_price\"]\n",
    "portfolio_3=pd.merge(INTC,MMM, left_index=True, right_index=True)\n",
    "portfolio_3=pd.merge(portfolio_3, MCD, left_index=True, right_index=True)\n",
    "portfolio_3=pd.merge(portfolio_3, V, left_index=True, right_index=True)\n",
    "portfolio_3=pd.merge(portfolio_3, WMT, left_index=True, right_index=True)"
   ]
  },
  {
   "cell_type": "code",
   "execution_count": 4,
   "metadata": {},
   "outputs": [],
   "source": [
    "#random gives us a way to generate random bits;\n",
    "\n",
    "#deap this implements the functionality for evolutionary algorithms in python, we’ll use the following submodules\n",
    "#base gives us access to the Toolbox and base Fitness;\n",
    "#creator allows us to create our types;\n",
    "#tools grants us access to the operators bank;\n",
    "#algorithms enables us some ready generic evolutionary loops.\n",
    "\n",
    "\n",
    "creator.create(\"FitnessMax\", base.Fitness, weights=(1.0,))\n",
    "creator.create(\"Individual\", list, fitness=creator.FitnessMax)"
   ]
  },
  {
   "cell_type": "code",
   "execution_count": 5,
   "metadata": {},
   "outputs": [
    {
     "name": "stdout",
     "output_type": "stream",
     "text": [
      "[1, 0, 1, 1, 0]\n",
      "<class 'deap.creator.Individual'>\n",
      "<class 'deap.creator.FitnessMax'>\n"
     ]
    }
   ],
   "source": [
    "ind = creator.Individual([1, 0, 1, 1, 0])\n",
    "\n",
    "print(ind)\n",
    "print(type(ind))\n",
    "print(type(ind.fitness))"
   ]
  },
  {
   "cell_type": "code",
   "execution_count": 6,
   "metadata": {},
   "outputs": [],
   "source": [
    "toolbox = base.Toolbox()\n",
    "toolbox.register(\"attr_bool\", random.random)\n",
    "toolbox.register(\"individual\", tools.initRepeat, creator.Individual, toolbox.attr_bool, n=15)\n",
    "toolbox.register(\"population\", tools.initRepeat, list, toolbox.individual)"
   ]
  },
  {
   "cell_type": "code",
   "execution_count": 7,
   "metadata": {
    "scrolled": false
   },
   "outputs": [
    {
     "name": "stdout",
     "output_type": "stream",
     "text": [
      "bit is of type <class 'float'> and has value\n",
      "0.6434069828276482\n",
      "ind is of type <class 'deap.creator.Individual'> and contains 15 bits\n",
      "[0.6261308187470807, 0.40382684038559347, 0.6954625355478702, 0.5820555351199934, 0.1382123148633445, 0.2552241979668268, 0.02013701723625494, 0.45140949235034455, 0.6449729194881163, 0.40803411260579336, 0.8762122666521022, 0.701122050004844, 0.6834385681082544, 0.675510138551145, 0.330869895522498]\n",
      "pop is of type <class 'list'> and contains 48 individuals\n",
      "[[0.6836805815772485, 0.2801057497832685, 0.7391145793326407, 0.2084674724862421, 0.08730898735783377, 0.33875765887820086, 0.22449272455020586, 0.29349898581308786, 0.1787047069771165, 0.3308318170680715, 0.2981576106443684, 0.8531146966370827, 0.6525369020590533, 0.16110280558434387, 0.7689489953500409], [0.7901256279224572, 0.43446530389870897, 0.14556349121645795, 0.5451788283346268, 0.8604841018449463, 0.9498643917029657, 0.5814386417028151, 0.6670854218717557, 0.6698503616801844, 0.8946082889961865, 0.581452253803207, 0.5688117387526004, 0.5344087682383464, 0.7939388461173232, 0.29727665675765325], [0.36920748894395405, 0.28940346106038595, 0.0195032139908925, 0.8395488407017595, 0.8429676626334952, 0.2933801529650847, 0.6010567932813922, 0.8119459120931821, 0.23433828393439615, 0.3319552871503776, 0.3432630699210705, 0.957658034147232, 0.6597001064741999, 0.24990666671813133, 0.3693241047063477], [0.8844804103039299, 0.08747190833115392, 0.3219093614158116, 0.2132103561293761, 0.8250972788654235, 0.7403311910450558, 0.5246874431950761, 0.9997890595532499, 0.3155969570655375, 0.051286696220642525, 0.8285550048284536, 0.9248418630345785, 0.02074918997860642, 0.29383015240894206, 0.9935766379306645], [0.22271966595239956, 0.4857085290493087, 0.9006522750602898, 0.6003239173229535, 0.78508212665177, 0.9307311505814088, 0.8241056635795423, 0.9662021893144578, 0.33006887052853895, 0.031443002403629405, 0.6911969968855682, 0.8369533610342189, 0.19075808259199079, 0.9802394396025957, 0.8469764175157976], [0.21447040556118935, 0.21479311612841878, 0.32009042939720356, 0.31973192575102505, 0.8118433447883974, 0.13720684843520492, 0.06927490436390804, 0.8166908988385005, 0.4044272668173189, 0.35452407227807115, 0.41140945899264625, 0.3379235695435133, 0.6124469074433446, 0.6979565289987765, 0.6103407268443088], [0.1380421354339776, 0.38912811639934664, 0.6773401381935981, 0.10444133672904732, 0.7816803509461614, 0.554054789551771, 0.8916291416420208, 0.930257922170768, 0.9486466882954399, 0.14545700367876813, 0.8400310798982241, 0.37676112949104446, 0.9903055776691597, 0.05668160525309107, 0.35838146409824767], [0.004150772868299568, 0.12658175067207078, 0.865444473067338, 0.4288952745410104, 0.49070570265472924, 0.9450380669542744, 0.44675953020132075, 0.7096473224799313, 0.7581631290787815, 0.36819587228365536, 0.2912513259646414, 0.154836047208592, 0.1495923830394711, 0.18116216977174027, 0.08297721979188433], [0.5013149822158147, 0.11190028217208992, 0.40110409752758414, 0.31440277783008586, 0.1802302361708018, 0.39583763595710286, 0.19006124366788535, 0.21187343024620364, 0.9557393918490079, 0.839503215422008, 0.17231628544358546, 0.2391077716173825, 0.4228674733407959, 0.1624583392125657, 0.59495295702942], [0.9684350403199122, 0.7626529005008678, 0.31103412553183274, 0.6949593194418319, 0.16739622724923886, 0.1615789617224741, 0.8354151518829859, 0.11464263096166183, 0.6531176894221523, 0.675487656963019, 0.9036544433602883, 0.5757761371804875, 0.652927940098117, 0.3908138202153576, 0.47427800160315514], [0.9231155034011067, 0.4288351368686969, 0.5105497671942516, 0.7526501172575872, 0.765882026103349, 0.44859135125637106, 0.05887229985093578, 0.41327213652130657, 0.6505654237286302, 0.7041070254034953, 0.5641547090468868, 0.5227119172328846, 0.9802616771333493, 0.9407365456221434, 0.8634875298548819], [0.43894827927275837, 0.7216494449221538, 0.6102406232154951, 0.34748229584305346, 0.9507400525573475, 0.05710434672668141, 0.33553137728205296, 0.7037674619461185, 0.06872826477582505, 0.14909847889574812, 0.8969771079369314, 0.23763083145881858, 0.244679337739945, 0.4342502091925039, 0.04180539521163695], [0.9297267344649963, 0.40587821582383565, 0.22565160994400313, 0.10052868670805548, 0.2351003647888229, 0.05412054305253289, 0.7370324139816534, 0.2697592858068657, 0.5663025182300262, 0.42498904354417355, 0.7571872044083565, 0.45471780063696143, 0.713126774461093, 0.04203493723287488, 0.3105075576172739], [0.6238434852745806, 0.9562964025644127, 0.7886294874488843, 0.9005500483383367, 0.9587044997365233, 0.7620523830224235, 0.861997244421525, 0.2148266102265598, 0.5548913788457924, 0.022659987375820978, 0.6160700229546276, 0.054364160346158874, 0.4661875049989208, 0.6114429992727718, 0.7438257213640315], [0.9107347845791214, 0.8553773127037323, 0.44603653758542616, 0.20865718653169296, 0.43716524956065805, 0.6094865425888885, 0.46579166822159623, 0.8499498462337177, 0.9764808546185031, 0.8106585099231362, 0.5817221602606693, 0.9259729341091995, 0.14695269859920768, 0.4240320255961231, 0.731295626646826], [0.17781839087716345, 0.2987088350050221, 0.9107314219631751, 0.4081909858518591, 0.4851338330425097, 0.4921560741743919, 0.9488078376906555, 0.6978199335984571, 0.3788819750637824, 0.33601320840004567, 0.8938642689402599, 0.9073223175886335, 0.9410577439158974, 0.5242284256453025, 0.9748186374220674], [0.8851138421593095, 0.44190088820499795, 0.8557519347633571, 0.36343399757731043, 0.6582264650576661, 0.9600202671775665, 0.2919237560609331, 0.8327767229640889, 0.020139920173223413, 0.90604782166623, 0.012623613798563693, 0.7562182484441725, 0.44958456890251086, 0.37443480438627164, 0.6424676044862326], [0.5951664890347989, 0.08198562923478414, 0.9204012368420303, 0.9954852758028471, 0.18849943571996708, 0.3940102689754116, 0.45761945235958235, 0.30346933545438826, 0.7180687460160702, 0.2538720276999241, 0.6115617036834009, 0.4679168167645875, 0.33212310492738606, 0.646271606298973, 0.7957200349601823], [0.8121733444076195, 0.32090768383694956, 0.15362725596027316, 0.15986838305068107, 0.35996028721866624, 0.6266332081046619, 0.4314442814941727, 0.16424566413745412, 0.6057762988562307, 0.7807025327482388, 0.676107301859251, 0.49520246863525075, 0.12906606177353086, 0.8973788274103581, 0.7410713467783049], [0.8267249041447501, 0.2537086021165964, 0.5649948431026952, 0.608414113166161, 0.729339735258863, 0.4449362370622725, 0.9140915227201435, 0.4777843125248247, 0.05538370161632278, 0.927745091880119, 0.7747456102142228, 0.8114301891301084, 0.6046374098209883, 0.27297441493539676, 0.8371882532311704], [0.1041889505446939, 0.5981724771991482, 0.39564701595203233, 0.025628257191649517, 0.5985678182159891, 0.7905427107353035, 0.8331892711056879, 0.24239435704860302, 0.5407585278771083, 0.42049495775461854, 0.07837762801174963, 0.6610085056526989, 0.7455721197978238, 0.84315126503622, 0.9397384115434193], [0.35725699771022346, 0.8484974524776995, 0.8062652643374978, 0.12155035203953435, 0.9132027246310956, 0.39756933416210516, 0.1470060563088018, 0.5885982893146352, 0.629800255767028, 0.10374684564964443, 0.32615530360403644, 0.014789040280527854, 0.24363079586600667, 0.6430775372151458, 0.7764518572587877], [0.24478853165680436, 0.05803949179361012, 0.015357093661705346, 0.3106984754470322, 0.10518828917089518, 0.5083442536013837, 0.5517080584802333, 0.8901924497501591, 0.26911463476271014, 0.0026806197934521325, 0.4817678597854862, 0.8883879358815076, 0.8331907193306362, 0.29252728862491617, 0.19571150473700127], [0.03964253971693299, 0.9118299410304312, 0.7361401072476955, 0.08622221215243009, 0.6011242343421023, 0.6795565311016857, 0.18276607479806073, 0.468710745231785, 0.12493142078090824, 0.07027248196435332, 0.45264956754383623, 0.7834685215559214, 0.32331102271482626, 0.06904654178793512, 0.6061917973417262], [0.8473798985113076, 0.9820679511604579, 0.3543066883407291, 0.45969031971578767, 0.9745083408814578, 0.2968438129751454, 0.17155069385700406, 0.6604260356599394, 0.9986143987322259, 0.3270839597384678, 0.022728502565906306, 0.07309406321034628, 0.4578420465431291, 0.380438352863553, 0.122079468740798], [0.5054556091005934, 0.07754807155078802, 0.8026423841361817, 0.34355097343742447, 0.06109044806585673, 0.56198320263941, 0.49634880488265987, 0.9130054984416576, 0.07942941926048064, 0.5906887639053523, 0.43576012724900626, 0.7270443206155768, 0.3160015845610785, 0.7268838825213233, 0.5427069585006776], [0.283438696260806, 0.8800609433801454, 0.6356811264717042, 0.2646080908270595, 0.4842445944792416, 0.3928653834575161, 0.259856718129311, 0.13491328229810118, 0.8972547218082617, 0.5287909117843254, 0.4690713706138835, 0.7950292330528256, 0.4333579522934514, 0.9326250506757637, 0.9448928729088257], [0.656756580919358, 0.16413615529091208, 0.18792324626338897, 0.4621828043858085, 0.698999124049859, 0.9908506993557726, 0.5096752023015458, 0.2110654914219392, 0.35838969706366997, 0.4880565511148691, 0.5919449639130963, 0.07633668910572577, 0.03914945221094246, 0.8106557134872805, 0.23134628542933233], [0.32627746481111597, 0.83848229334964, 0.1600518105938864, 0.27937206426013506, 0.7967951400593576, 0.1996409336039695, 0.5372455451327263, 0.5852836764251984, 0.8397278966553143, 0.09137513120865237, 0.1404712786371749, 0.7788030190589983, 0.16625262045627598, 0.048943204378152916, 0.42356648833540367], [0.6347825638306699, 0.8069787945646985, 0.6592248527684945, 0.9019659896017498, 0.889243602659935, 0.8223158394112206, 0.8126416003343626, 0.6117914249904297, 0.6701077325836386, 0.992261986577231, 0.4169845434999194, 0.7985441927230026, 0.6691353090660687, 0.36928239038543464, 0.16068100169776134], [0.49159143103483127, 0.5061046100552733, 0.8105421548725499, 0.5704262738650037, 0.002529888329316665, 0.3792857256416946, 0.4142063072499641, 0.6966526848768615, 0.8046443024360466, 0.5779934251645192, 0.4552938046116999, 0.11501828353182586, 0.8262679571759391, 0.32417320756818335, 0.7970396263494492], [0.24870003439954458, 0.2607868368978036, 0.3426561137175974, 0.29797687630781167, 0.3164418103294069, 0.15070654211085277, 0.5947036745815991, 0.9129131238488517, 0.21977642589816582, 0.6580091724992172, 0.4126542661539765, 0.6037071290379549, 0.1772560869379196, 0.18194884581907045, 0.2951236169639473], [0.2721739057199192, 0.5167106478251234, 0.781024043107795, 0.10139019517850645, 0.8452943451273502, 0.6383383688600467, 0.7966342627860121, 0.4587373464820421, 0.9476425496837347, 0.0020490412882332443, 0.00944934187280333, 0.4879498360143989, 0.6390378351095549, 0.4070352698710481, 0.46702263032338787], [0.7450676812768927, 0.4780224337680994, 0.34622562236212184, 0.16513719792723103, 0.5766460026892744, 0.20110857257940284, 0.42799314928937826, 0.515768917049444, 0.12450013081502254, 0.3623561872357508, 0.29017766203400985, 0.8602426977925133, 0.12495976693475208, 0.6801755577921135, 0.06219813426454479], [0.2981986826724974, 0.7644926435162847, 0.44552337315702106, 0.5988293078989708, 0.061516541595550533, 0.8088569612868778, 0.7216157031592486, 0.19573819788298896, 0.5868495307481109, 0.9237141471719609, 0.5089237126631552, 0.3952057184563206, 0.4695711961424167, 0.32014630467355, 0.6745038866382661], [0.9272673441413074, 0.07414278940952101, 0.5788133193934237, 0.003283075510186695, 0.5629743304779453, 0.749339537108511, 0.7846226336642464, 0.9868944740731955, 0.5369402692215969, 0.6122751138573052, 0.5788000747629574, 0.9996751158647837, 0.8237098472716717, 0.02910273182633516, 0.13703478635550093], [0.8462970565276291, 0.5019923163806763, 0.38115407619559505, 0.7458774760433895, 0.8965263565625747, 0.7406405726671342, 0.11793718067219938, 0.8985028360534579, 0.4807243986035732, 0.9739838759119452, 0.14203544148303238, 0.4038605326544875, 0.9965635044731587, 0.2839603018606405, 0.237999019930498], [0.8804005603753907, 0.048440042369748526, 0.21206439620349982, 0.21701582280835885, 0.5553706231189999, 0.922138250044752, 0.82170562416908, 0.9715136059365348, 0.7775022021752129, 0.16004268765632945, 0.8954413342542074, 0.17149075492203802, 0.14738360301643783, 0.8630234836206928, 0.13495435817051893], [0.2233305103097729, 0.34232809930016117, 0.299238524873492, 0.4654496358315955, 0.5654480440642613, 0.5581618364582013, 0.9963181016520248, 0.6402147526823174, 0.8328520517718664, 0.886568964915512, 0.6745314908949138, 0.5252146777579028, 0.7587027370706959, 0.6849007563190033, 0.2567800796983801], [0.8509747561511866, 0.6459425025683476, 0.5064450860819348, 0.8443669990804897, 0.4979222617125475, 0.2437051214841952, 0.24454867608483521, 0.33379266080801073, 0.14607656084896226, 0.6200926946968138, 0.3500222670139941, 0.6533270784083709, 0.40171420816038683, 0.027575955157788434, 0.9237703744226488], [0.14677483767581678, 0.9491284923349939, 0.028650403522808343, 0.3670277218043877, 0.08168723291520708, 0.7386039439589543, 0.23387480812640704, 0.6487308333505555, 0.030268000738818746, 0.24485112540414966, 0.706641379855414, 0.40310547939903596, 0.834041139782584, 0.5555968924181067, 0.24400731728253855], [0.49037622699734174, 0.8877519969822553, 0.7884664430610944, 0.19236815299547128, 0.7607621647729643, 0.6422892052437735, 0.25191344294298146, 0.39682739591810123, 0.5313290403757758, 0.5555203483737479, 0.14466307679599, 0.15867573544266256, 0.00889508942595263, 0.3585250197361324, 0.9747040625244096], [0.7223241370986379, 0.23439331950489584, 0.09158094460779509, 0.8158209807228947, 0.3339047997120078, 0.003985265548867023, 0.4610587501214186, 0.024221568931907522, 0.2674157705118566, 0.842054037818433, 0.3540767930662071, 0.6137276482163182, 0.30949653012031864, 0.011517090695301269, 0.9713377773465734], [0.17137683851533847, 0.4111498450625043, 0.7281916395241618, 0.2211558860238555, 0.895620562694073, 0.8433812430799726, 0.3733607368192938, 0.9961788357413826, 0.33096808794156407, 0.42783803067558335, 0.2537286346464175, 0.6762253100906128, 0.289273059364361, 0.20746152028668907, 0.2277061043357813], [0.17043929889670495, 0.9774484068776579, 0.8544240958364009, 0.41144686177815293, 0.3621483494437938, 0.3967862903596575, 0.3731365585466293, 0.9482623011814489, 0.2558248857600821, 0.09285032092920298, 0.3885332019859481, 0.9226914351892395, 0.7043032897379667, 0.15209198722606887, 0.7508661350123379], [0.4240730261148542, 0.41525828708453183, 0.5507736626995549, 0.6511896547338426, 0.6262511163237943, 0.8625773081137419, 0.8554448036385986, 0.7050933598911242, 0.5102582984047915, 0.39413747122647635, 0.2243122468301315, 0.7102750250077406, 0.34714771289102153, 0.7961110738111805, 0.15818593856425556], [0.7938079262394429, 0.955506144536566, 0.298883449618339, 0.39137489089815414, 0.46770364745050474, 0.4227948433248713, 0.7571502181144115, 0.41951255273372856, 0.39385010570174517, 0.7547164049342873, 0.8367499981305181, 0.19351975707799318, 0.5140939502673514, 0.6063790200647861, 0.24909037939240342], [0.5654660201756487, 0.5768533482485234, 0.044829977806024046, 0.12213526470699676, 0.0925527464577065, 0.6964075362555031, 0.9764631096666059, 0.7116543425370164, 0.012572515416716001, 0.14918374331186812, 0.25891545371407043, 0.10378885506288626, 0.051151780136633684, 0.926877123815517, 0.7424736232293715]]\n"
     ]
    }
   ],
   "source": [
    "bit = toolbox.attr_bool()\n",
    "ind = toolbox.individual()\n",
    "pop = toolbox.population(n=48)\n",
    "\n",
    "print(\"bit is of type %s and has value\\n%s\" % (type(bit), bit))\n",
    "print(\"ind is of type %s and contains %d bits\\n%s\" % (type(ind), len(ind), ind))\n",
    "print(\"pop is of type %s and contains %d individuals\\n%s\" % (type(pop), len(pop), pop))"
   ]
  },
  {
   "cell_type": "code",
   "execution_count": 8,
   "metadata": {},
   "outputs": [],
   "source": [
    "def evalOneMax(individual,portfolio_1=portfolio_1, portfolio_2=portfolio_2,\n",
    "              portfolio_3=portfolio_3):\n",
    "    ##The above code subtracts the penalty from the fitness value,\n",
    "    ## the higher the violation the more unfit the individual will be, we can use the values of weight1\n",
    "    ## and weight2 to specify what constraint we value more. For example, if I keep weight1 as 10 but increase\n",
    "    ## weight2 to 100 that will penalize the violations for duration constraint more\n",
    "    objective = np.dot(individual, portfolio_3)\n",
    "    if ((np.dot(individual, portfolio_1)/np.dot(portfolio_2,individual))-1) >0:\n",
    "\n",
    "        objective = portfolio_1\n",
    "    \n",
    "   \n",
    "    if ((np.dot(individual, portfolio_2)/np.dot(individual,portfolio_3))-1) >0 :\n",
    "        \n",
    "        objective = portfolio_2\n",
    "      \n",
    "    if ((np.dot(individual, portfolio_3)/np.dot(individual,portfolio_1))-1) >0 :\n",
    "        \n",
    "        objective = portfolio_3\n",
    "    \n",
    "    return objective\n"
   ]
  },
  {
   "cell_type": "code",
   "execution_count": 9,
   "metadata": {},
   "outputs": [],
   "source": [
    "#def evalOneMax(individual,portfolio_1=portfolio_1, portfolio_2=portfolio_2,\n",
    " #             portfolio_3=portfolio_3):\n",
    "  #  objective = np.dot(individual, DWJ)\n",
    "   # ##The above code subtracts the penalty from the fitness value,\n",
    "    ### the higher the violation the more unfit the individual will be, we can use the values of weight1\n",
    "    ### and weight2 to specify what constraint we value more. For example, if I keep weight1 as 10 but increase\n",
    "    ### weight2 to 100 that will penalize the violations for duration constraint more\n",
    "    #\n",
    "    #if (portfolio_1+portfolio_2)-(portfolio_2+portfolio_3) >0:\n",
    "#\n",
    " #       objective = objective - weight1*(portfolio_1+portfolio_2)-(portfolio_2+portfolio_3)\n",
    "  #   \n",
    "   #\n",
    "    #if (portfolio_2+portfolio_3)-(portfolio_1+portfolio_2) >0:\n",
    "#\n",
    "#       objective = objective - weight1*(portfolio_2+portfolio_3)-(portfolio_1+portfolio_2)\n",
    " # \n",
    "  #  return objective"
   ]
  },
  {
   "cell_type": "code",
   "execution_count": 10,
   "metadata": {},
   "outputs": [],
   "source": [
    "toolbox.register(\"evaluate\", evalOneMax)\n",
    "toolbox.register(\"mate\", tools.cxTwoPoint)\n",
    "toolbox.register(\"mutate\", tools.mutFlipBit, indpb=0.10)\n",
    "toolbox.register(\"select\", tools.selTournament, tournsize=3)"
   ]
  },
  {
   "cell_type": "code",
   "execution_count": 11,
   "metadata": {},
   "outputs": [
    {
     "name": "stdout",
     "output_type": "stream",
     "text": [
      "[0.1887889123456128, 0.44677227714080525, 0.5362394308764697, 0.9808889503846927, 0.8655484737118903, 0.7174206260359064, 0.19076214224580834, 0.4967607695495403, 0.937359651548343, 0.3954795265129357, 0.04487723937190502, 0.23572043457796132, 0.13233028485793807, 0.10457512112691936, 0.9766388194981575]\n",
      "[0.1887889123456128, 0.44677227714080525, 0.5362394308764697, 0.9808889503846927, 0.0, 0.0, 0.19076214224580834, 0.4967607695495403, 0.937359651548343, 0.3954795265129357, 0.0, 0.23572043457796132, 0.13233028485793807, 0.10457512112691936, 0.9766388194981575]\n"
     ]
    }
   ],
   "source": [
    "ind = toolbox.individual()\n",
    "print(ind)\n",
    "toolbox.mutate(ind)\n",
    "print(ind)"
   ]
  },
  {
   "cell_type": "code",
   "execution_count": 12,
   "metadata": {},
   "outputs": [
    {
     "name": "stdout",
     "output_type": "stream",
     "text": [
      "False\n",
      "True\n"
     ]
    }
   ],
   "source": [
    "mutant = toolbox.clone(ind)\n",
    "print(mutant is ind)\n",
    "print(mutant == ind)"
   ]
  },
  {
   "cell_type": "code",
   "execution_count": 13,
   "metadata": {},
   "outputs": [],
   "source": [
    "def main():\n",
    "    \n",
    "    pop = toolbox.population(n=5000)\n",
    "    hof = tools.HallOfFame(1)\n",
    "    stats = tools.Statistics(lambda ind: ind.fitness.values)\n",
    "    stats.register(\"avg\", numpy.mean)\n",
    "    stats.register(\"min\", numpy.min)\n",
    "    stats.register(\"max\", numpy.max)\n",
    "    \n",
    "    pop, logbook = algorithms.eaSimple(pop, toolbox, cxpb=0.5, mutpb=0.2, ngen=10, stats=stats, halloffame=hof, verbose=True)\n",
    "    \n",
    "    return pop, logbook, hof"
   ]
  },
  {
   "cell_type": "code",
   "execution_count": null,
   "metadata": {
    "scrolled": true
   },
   "outputs": [],
   "source": [
    "if __name__ == \"__main__\":\n",
    "    import numpy\n",
    "    pop, log, hof = main()\n",
    "print(\"Best individual is: %s\\nwith fitness: %s\" % (hof[0], hof[0].fitness))\n",
    "\n",
    "\n",
    "\n",
    "gen, avg, min_, max_ = log.select(\"gen\", \"avg\", \"min\", \"max\")\n",
    "plt.plot(gen, avg, label=\"average\")\n",
    "plt.plot(gen, min_, label=\"minimum\")\n",
    "plt.plot(gen, max_, label=\"maximum\")\n",
    "plt.xlabel(\"Generation\")\n",
    "plt.ylabel(\"Fitness\")\n",
    "plt.legend(loc=\"lower right\")\n",
    "plt.show()"
   ]
  },
  {
   "cell_type": "code",
   "execution_count": null,
   "metadata": {},
   "outputs": [],
   "source": []
  },
  {
   "cell_type": "code",
   "execution_count": null,
   "metadata": {},
   "outputs": [],
   "source": []
  },
  {
   "cell_type": "code",
   "execution_count": null,
   "metadata": {},
   "outputs": [],
   "source": []
  },
  {
   "cell_type": "code",
   "execution_count": null,
   "metadata": {},
   "outputs": [],
   "source": []
  },
  {
   "cell_type": "code",
   "execution_count": null,
   "metadata": {},
   "outputs": [],
   "source": []
  },
  {
   "cell_type": "code",
   "execution_count": null,
   "metadata": {},
   "outputs": [],
   "source": []
  },
  {
   "cell_type": "code",
   "execution_count": null,
   "metadata": {},
   "outputs": [],
   "source": []
  },
  {
   "cell_type": "code",
   "execution_count": null,
   "metadata": {},
   "outputs": [],
   "source": [
    " "
   ]
  },
  {
   "cell_type": "code",
   "execution_count": null,
   "metadata": {},
   "outputs": [],
   "source": []
  },
  {
   "cell_type": "code",
   "execution_count": null,
   "metadata": {},
   "outputs": [],
   "source": []
  },
  {
   "cell_type": "code",
   "execution_count": null,
   "metadata": {},
   "outputs": [],
   "source": []
  },
  {
   "cell_type": "code",
   "execution_count": null,
   "metadata": {},
   "outputs": [],
   "source": []
  }
 ],
 "metadata": {
  "kernelspec": {
   "display_name": "Python 3",
   "language": "python",
   "name": "python3"
  },
  "language_info": {
   "codemirror_mode": {
    "name": "ipython",
    "version": 3
   },
   "file_extension": ".py",
   "mimetype": "text/x-python",
   "name": "python",
   "nbconvert_exporter": "python",
   "pygments_lexer": "ipython3",
   "version": "3.8.3"
  }
 },
 "nbformat": 4,
 "nbformat_minor": 4
}
